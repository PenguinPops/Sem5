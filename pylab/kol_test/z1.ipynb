{
 "cells": [
  {
   "cell_type": "code",
   "execution_count": 8,
   "metadata": {},
   "outputs": [
    {
     "data": {
      "image/png": "[encoded data removed]",
      "text/plain": [
       "<Figure size 896x784 with 1 Axes>"
      ]
     },
     "metadata": {},
     "output_type": "display_data"
    }
   ],
   "source": [
    "# Zadanie 1\n",
    "\n",
    "import numpy as np\n",
    "import matplotlib.pyplot as plt\n",
    "from sklearn.datasets import load_diabetes\n",
    "\n",
    "# print(diabetes.DESCR)\n",
    "\n",
    "X, y = load_diabetes(return_X_y=True, as_frame=True)\n",
    "X = X.drop(columns=['bmi', 'bp', 's4', 's5', 's6'])\n",
    "X['target'] = y\n",
    "cor = X.corr()\n",
    "\n",
    "plt_x = np.array(X.columns)[:-1] # remove the target column\n",
    "plt_y = cor.to_numpy()[-1][:-1] # remove the target column\n",
    "\n",
    "fig = plt.figure(figsize=(8,7), dpi = 112) # create a figure object\n",
    "ax = fig.add_axes([0,0,1,1]) # create an axis object\n",
    "ax.set_title('Wykres korelacji')\n",
    "ax.set_xlabel('Czynnik')\n",
    "ax.set_ylabel('Korelacja')\n",
    "ax.bar(plt_x, plt_y) # create a bar plot\n",
    "plt.show() # display the plot"
   ]
  },
  {
   "cell_type": "code",
   "execution_count": 40,
   "metadata": {},
   "outputs": [
    {
     "name": "stdout",
     "output_type": "stream",
     "text": [
      "Using MinMax Scaler\n",
      "Accuracy for depth 3: 0.695\n",
      "Accuracy for depth 5: 0.7\n",
      "Accuracy for depth 7: 0.69\n",
      "Using Standard Scaler\n",
      "Accuracy for depth 3: 0.695\n",
      "Accuracy for depth 5: 0.7\n",
      "Accuracy for depth 7: 0.685\n",
      "Using Robust Scaler\n",
      "Accuracy for depth 3: 0.695\n",
      "Accuracy for depth 5: 0.7\n",
      "Accuracy for depth 7: 0.69\n"
     ]
    }
   ],
   "source": [
    "# Zadanie 2\n",
    "\n",
    "# Plik credit.asc zawiera dane o kredytach, ostatnia kolumna zawiera info o przyznanym kredycie (1) albo odmowie (0). Przeskaluj dane 3 poznanymi sposobami. Przeprowadź klasyfikację oryginalnych i przeskalowanych danych 2 modelami drzew decyzynych o wybranych przez siebie głębokośiach. Oceń modele.\n",
    "\n",
    "import pandas as pd\n",
    "from sklearn.model_selection import train_test_split\n",
    "from sklearn.tree import DecisionTreeClassifier\n",
    "from sklearn.metrics import accuracy_score\n",
    "from sklearn.preprocessing import MinMaxScaler, StandardScaler, RobustScaler\n",
    "\n",
    "# Read the data from credit.asc file\n",
    "data = pd.read_csv('credit.asc', sep=' ', header=None)\n",
    "\n",
    "# delete headers\n",
    "headers = data[:1]\n",
    "data = data.drop(0)\n",
    "# print(headers)\n",
    "# print(data)\n",
    "\n",
    "# Split the data into features and target\n",
    "X = data.iloc[:, :-1]\n",
    "y = data.iloc[:, -1]\n",
    "\n",
    "# Split the data into training and testing sets\n",
    "X_train, X_test, y_train, y_test = train_test_split(X, y, test_size=0.2, random_state=200)\n",
    "\n",
    "dec_tree_depths = [3, 5, 7]\n",
    "scalers = [(MinMaxScaler(),\"MinMax Scaler\"), (StandardScaler(),\"Standard Scaler\"), (RobustScaler(), \"Robust Scaler\")]\n",
    "\n",
    "for scaler, scaler_name in scalers:\n",
    "    X_train_scaled = scaler.fit_transform(X_train)\n",
    "    X_test_scaled = scaler.transform(X_test)\n",
    "    print(f\"Using {scaler_name}\")\n",
    "    for depth in dec_tree_depths:\n",
    "        dec_tree = DecisionTreeClassifier(max_depth=depth)\n",
    "        dec_tree.fit(X_train_scaled, y_train)\n",
    "        y_pred = dec_tree.predict(X_test_scaled)\n",
    "        print(f\"Accuracy for depth {depth}: {accuracy_score(y_test, y_pred)}\")\n"
   ]
  },
  {
   "cell_type": "code",
   "execution_count": 54,
   "metadata": {},
   "outputs": [
    {
     "name": "stdout",
     "output_type": "stream",
     "text": [
      "Model 1: Accuracy = 0.7202 ± 0.0893\n",
      "Model 2: Accuracy = 0.7569 ± 0.0818\n",
      "Model 3: Accuracy = 0.7690 ± 0.0797\n",
      "Model 4: Accuracy = 0.7356 ± 0.0595\n",
      "Model 5: Accuracy = 0.7386 ± 0.0832\n",
      "Model 6: Accuracy = 0.7477 ± 0.0777\n"
     ]
    }
   ],
   "source": [
    "# Zadanie 3\n",
    "\n",
    "# Plik accent.csv zawiera 12 cech charakterystycznych z głosów osób mówiących z akcentami z 6 różnych języków. wczytaj te dane, ewentualne wartości odstające zastąp średnią i przeskaluj wybraną metodą. Przygotuj 3 różne modele sztucznych sieci neuronowych klasyfikujących akcenty i przeprowadź ich 5-krotną walidację krzyżową. Wskaż najlepszy model.\n",
    "\n",
    "from sklearn.neural_network import MLPClassifier\n",
    "from sklearn.model_selection import cross_val_score\n",
    "from sklearn.preprocessing import StandardScaler, LabelEncoder\n",
    "from sklearn.impute import SimpleImputer\n",
    "import pandas as pd\n",
    "\n",
    "# Read the data\n",
    "data = pd.read_csv('accent.csv', header=None, skiprows=1)\n",
    "\n",
    "# Extract features and target\n",
    "X = data.iloc[:, 1:].values  # Features are all columns except the first\n",
    "y = data.iloc[:, 0]  # Target is the first column (language)\n",
    "\n",
    "# Encode the target labels into numeric values\n",
    "label_encoder = LabelEncoder()\n",
    "y = label_encoder.fit_transform(y)\n",
    "\n",
    "# Replace outliers with the mean\n",
    "imp = SimpleImputer(strategy='mean')\n",
    "X = imp.fit_transform(X)\n",
    "\n",
    "# Scale the data\n",
    "scaler = StandardScaler()\n",
    "X = scaler.fit_transform(X)\n",
    "\n",
    "# Define neural network models\n",
    "models = [\n",
    "    MLPClassifier(hidden_layer_sizes=(100, 50), max_iter=1000, random_state=42),\n",
    "    MLPClassifier(hidden_layer_sizes=(200, 100), max_iter=1000, random_state=42),\n",
    "    MLPClassifier(hidden_layer_sizes=(300, 150), max_iter=1000, random_state=42),\n",
    "    MLPClassifier(hidden_layer_sizes=(400, 200), max_iter=1000, random_state=42),\n",
    "    MLPClassifier(hidden_layer_sizes=(500, 250), max_iter=1000, random_state=42),\n",
    "    MLPClassifier(hidden_layer_sizes=(600, 300), max_iter=1000, random_state=42)\n",
    "]\n",
    "\n",
    "# Perform 5-fold cross-validation\n",
    "for i, model in enumerate(models):\n",
    "    scores = cross_val_score(model, X, y, cv=5, scoring='accuracy')\n",
    "    print(f\"Model {i+1}: Accuracy = {scores.mean():.4f} ± {scores.std():.4f}\")\n"
   ]
  }
 ],
 "metadata": {
  "kernelspec": {
   "display_name": "Python 3",
   "language": "python",
   "name": "python3"
  },
  "language_info": {
   "codemirror_mode": {
    "name": "ipython",
    "version": 3
   },
   "file_extension": ".py",
   "mimetype": "text/x-python",
   "name": "python",
   "nbconvert_exporter": "python",
   "pygments_lexer": "ipython3",
   "version": "3.12.7"
  }
 },
 "nbformat": 4,
 "nbformat_minor": 2
}
