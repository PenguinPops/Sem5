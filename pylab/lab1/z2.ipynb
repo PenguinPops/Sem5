{
 "cells": [
  {
   "cell_type": "markdown",
   "metadata": {},
   "source": [
    "Pobierz ze strony plik z danymi wejściowymi dane_w_ekselu.xlsx. Wczytaj dane\n",
    "z pliku do zmiennej typu pandas DataFrame. Pobierz ze zmiennej DataFrame wartości jako\n",
    "dwuwymiarową tablicę numpy oraz nazwy kolumn jako listę. Wykonaj poniższe zadania\n",
    "korzystają z konstrukcji wektorowych biblioteki numpy."
   ]
  },
  {
   "cell_type": "code",
   "execution_count": 8,
   "metadata": {},
   "outputs": [
    {
     "name": "stdout",
     "output_type": "stream",
     "text": [
      "[[-0.41978194  0.28482986 -1.2879095  ...  0.44105193 -1.0755623\n",
      "   0.15968566]\n",
      " [-0.41733926 -0.48772236 -0.59338101 ...  0.44105193 -0.49243937\n",
      "  -0.10152429]\n",
      " [-0.41734159 -0.48772236 -0.59338101 ...  0.39642699 -1.2087274\n",
      "   1.32424667]\n",
      " ...\n",
      " [-0.41344658 -0.48772236  0.11573841 ...  0.44105193 -0.98304761\n",
      "   0.14880191]\n",
      " [-0.40776407 -0.48772236  0.11573841 ...  0.4032249  -0.86530163\n",
      "  -0.0579893 ]\n",
      " [-0.41500016 -0.48772236  0.11573841 ...  0.44105193 -0.66905833\n",
      "  -1.15724782]]\n"
     ]
    }
   ],
   "source": [
    "import pandas as pd\n",
    "import numpy as np\n",
    "\n",
    "DataFrame = pd.read_excel('practice_lab_2.xlsx')\n",
    "# print(DataFrame)\n",
    "\n",
    "array = np.array(DataFrame)\n",
    "# print(array)\n",
    "\n",
    "# Zadanie 1\n",
    "odd_array = array[1::2]\n",
    "even_array = array[::2]\n",
    "diff_array = even_array - odd_array\n",
    "# print(diff_array)\n",
    "\n",
    "# Zadanie 2\n",
    "array_average = np.sum(array, axis=0) / array.shape[0]\n",
    "balanced_array = array - array_average\n",
    "# print(balanced_array)\n",
    "\n",
    "# Zadanie 3\n",
    "# Wykonaj zadanie z podpunktu 2 dla oddzielnych kolumn pierwotnej tablicy, czyli\n",
    "# wyznaczając średnią oraz odchylenie standardowe dla oddzielnych kolumn.\n",
    "array_average = np.mean(array, axis=0)\n",
    "array_std = np.std(array, axis=0)\n",
    "balanced_array = (array - array_average) / array_std\n",
    "print(balanced_array)\n",
    "\n"
   ]
  }
 ],
 "metadata": {
  "kernelspec": {
   "display_name": "Python 3",
   "language": "python",
   "name": "python3"
  },
  "language_info": {
   "codemirror_mode": {
    "name": "ipython",
    "version": 3
   },
   "file_extension": ".py",
   "mimetype": "text/x-python",
   "name": "python",
   "nbconvert_exporter": "python",
   "pygments_lexer": "ipython3",
   "version": "3.12.7"
  }
 },
 "nbformat": 4,
 "nbformat_minor": 2
}
