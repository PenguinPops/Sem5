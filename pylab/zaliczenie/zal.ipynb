{
 "cells": [
  {
   "cell_type": "markdown",
   "metadata": {},
   "source": [
    "- 640x640 zdjecia, to parametr do modelu\n",
    "- ponad 100\n",
    "- kilka klas\n",
    "- biblioteka ultralitics\n",
    "\n",
    "- roboflow, roboflow universe do etykietowania\n",
    "- YOLO fw do rozpoznawania i uczenia v8 stable, v9 dobra\n",
    "- \"zaliczenie ustne\"\n",
    "\n",
    "- opis wymagany, pdf jakiś najlepiej\n",
    "- coś jak praca badawcza, konspekt i wykonanie\n",
    "- opis krok po kroku, opisanie z czego sie korzysta\n",
    "\n",
    "- sami etykietujemy, zdjęcia pobieramy z neta\n",
    "\n",
    "- kreatywne obiekty, co ciekawsze tym lepsze\n",
    "\n",
    "- screen z epokami - pytania typu co to iteracja, paczki itp\n",
    "\n",
    "- wiedzieć co znaczy każde oznaczenie\n",
    "\n",
    "- wielokrotne uczenie modelu, version control\n",
    "\n",
    "- google colab albo można na stacjonarce\n",
    "\n",
    "- nazwać to dokumentacją!\n",
    "\n",
    "- wnioski wyciągnąć, podsumowanie napisać, kilka-kilkanaście stron\n",
    "\n",
    "- nazwać imię-nazwisko.pdf\n",
    "\n"
   ]
  },
  {
   "cell_type": "code",
   "execution_count": null,
   "metadata": {},
   "outputs": [],
   "source": []
  }
 ],
 "metadata": {
  "language_info": {
   "name": "python"
  }
 },
 "nbformat": 4,
 "nbformat_minor": 2
}
